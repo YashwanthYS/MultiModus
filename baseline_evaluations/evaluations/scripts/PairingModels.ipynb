{
  "nbformat": 4,
  "nbformat_minor": 0,
  "metadata": {
    "colab": {
      "provenance": []
    },
    "kernelspec": {
      "name": "python3",
      "display_name": "Python 3"
    },
    "language_info": {
      "name": "python"
    }
  },
  "cells": [
    {
      "cell_type": "code",
      "source": [
        "import json\n",
        "import pandas as pd\n",
        "import os\n",
        "from google.colab import drive\n",
        "\n",
        "drive.mount('/content/drive', force_remount=True)\n",
        "\n",
        "dataset_folder = \"/content/drive/MyDrive/mmml_project/outputs\"\n",
        "file_paths = {\n",
        "    \"gpt\": os.path.join(dataset_folder, \"mini_gqa_with_gpt.json\"),\n",
        "    \"smolvlm\": os.path.join(dataset_folder, \"mini_gqa_with_smolvlm.json\"),\n",
        "    \"blip\": os.path.join(dataset_folder, \"mini_gqa_with_blip.json\"),\n",
        "    \"llava\": os.path.join(dataset_folder, \"mini_gqa_with_llava.json\"),\n",
        "}\n",
        "\n",
        "for model, path in file_paths.items():\n",
        "    with open(path, \"r\") as f:\n",
        "        data = json.load(f)\n",
        "    df = pd.DataFrame(data)\n",
        "    csv_path = os.path.join(dataset_folder, f\"{model}.csv\")\n",
        "    df.to_csv(csv_path, index=False)\n",
        "    print(f\"{model.upper()} CSV saved: {csv_path}\")"
      ],
      "metadata": {
        "colab": {
          "base_uri": "https://localhost:8080/"
        },
        "id": "wfufTI3sk9LR",
        "outputId": "06d6df03-a5c4-49bf-89da-1632db60462b"
      },
      "execution_count": null,
      "outputs": [
        {
          "output_type": "stream",
          "name": "stdout",
          "text": [
            "GPT CSV saved: /content/drive/MyDrive/mmml_project/outputs/gpt.csv\n",
            "SMOLVLM CSV saved: /content/drive/MyDrive/mmml_project/outputs/smolvlm.csv\n",
            "BLIP CSV saved: /content/drive/MyDrive/mmml_project/outputs/blip.csv\n",
            "LLAVA CSV saved: /content/drive/MyDrive/mmml_project/outputs/llava.csv\n"
          ]
        }
      ]
    },
    {
      "cell_type": "code",
      "source": [
        "# Define CSV paths\n",
        "gpt_csv = os.path.join(dataset_folder, \"gpt.csv\")\n",
        "smolvlm_csv = os.path.join(dataset_folder, \"smolvlm.csv\")\n",
        "blip_csv = os.path.join(dataset_folder, \"blip.csv\")\n",
        "llava_csv = os.path.join(dataset_folder, \"llava.csv\")\n",
        "\n",
        "# Load CSVs\n",
        "df_gpt = pd.read_csv(gpt_csv)\n",
        "df_smolvlm = pd.read_csv(smolvlm_csv)\n",
        "df_blip = pd.read_csv(blip_csv)\n",
        "df_llava = pd.read_csv(llava_csv)\n",
        "\n",
        "# Rename response columns for correct pairing\n",
        "df_gpt.rename(columns={\"gpt_response\": \"strong_model_response\"}, inplace=True)\n",
        "df_smolvlm.rename(columns={\"smolvlm_response\": \"weak_model_response\"}, inplace=True)\n",
        "df_blip.rename(columns={\"blip_response\": \"weak_model_response\"}, inplace=True)  # BLIP is the weak model\n",
        "df_llava.rename(columns={\"llava_response\": \"strong_model_response\"}, inplace=True)  # LLaVA is the strong model\n",
        "\n",
        "# Perform INNER JOIN on imageId & question\n",
        "gpt_vs_smolvlm = pd.merge(df_gpt, df_smolvlm, on=[\"imageId\", \"question\"], how=\"inner\")\n",
        "llava_vs_blip = pd.merge(df_llava, df_blip, on=[\"imageId\", \"question\"], how=\"inner\")\n",
        "\n",
        "# Select necessary columns\n",
        "gpt_vs_smolvlm = gpt_vs_smolvlm[[\"imageId\", \"image_file_x\", \"question\", \"answer_x\", \"fullAnswer_x\", \"strong_model_response\", \"weak_model_response\"]]\n",
        "llava_vs_blip = llava_vs_blip[[\"imageId\", \"image_file_x\", \"question\", \"answer_x\", \"fullAnswer_x\", \"strong_model_response\", \"weak_model_response\"]]\n",
        "\n",
        "# Rename columns for consistency\n",
        "gpt_vs_smolvlm.rename(columns={\"image_file_x\": \"image_file\", \"answer_x\": \"answer\", \"fullAnswer_x\": \"full_answer\"}, inplace=True)\n",
        "llava_vs_blip.rename(columns={\"image_file_x\": \"image_file\", \"answer_x\": \"answer\", \"fullAnswer_x\": \"full_answer\"}, inplace=True)\n",
        "\n",
        "# Save final matched CSVs\n",
        "gpt_vs_smolvlm_csv = os.path.join(dataset_folder, \"gpt_vs_smolvlm.csv\")\n",
        "llava_vs_blip_csv = os.path.join(dataset_folder, \"llava_vs_blip.csv\")\n",
        "\n",
        "gpt_vs_smolvlm.to_csv(gpt_vs_smolvlm_csv, index=False)\n",
        "llava_vs_blip.to_csv(llava_vs_blip_csv, index=False)\n",
        "\n",
        "print(f\"Final GPT vs SmolVLM CSV: {gpt_vs_smolvlm_csv}\")\n",
        "print(f\"Final LLaVA vs BLIP CSV: {llava_vs_blip_csv}\")"
      ],
      "metadata": {
        "colab": {
          "base_uri": "https://localhost:8080/"
        },
        "id": "K5cO3czGl5kq",
        "outputId": "dea550ec-22d9-412c-eb50-99c7b0a723d8"
      },
      "execution_count": null,
      "outputs": [
        {
          "output_type": "stream",
          "name": "stdout",
          "text": [
            "Final GPT vs SmolVLM CSV: /content/drive/MyDrive/mmml_project/outputs/gpt_vs_smolvlm.csv\n",
            "Final LLaVA vs BLIP CSV: /content/drive/MyDrive/mmml_project/outputs/llava_vs_blip.csv\n"
          ]
        }
      ]
    },
    {
      "cell_type": "code",
      "source": [],
      "metadata": {
        "id": "PUV4pnuBl-RD"
      },
      "execution_count": null,
      "outputs": []
    }
  ]
}